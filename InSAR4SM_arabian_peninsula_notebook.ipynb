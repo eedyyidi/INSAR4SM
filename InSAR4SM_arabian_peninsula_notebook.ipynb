{
 "cells": [
  {
   "cell_type": "code",
   "execution_count": 43,
   "metadata": {},
   "outputs": [],
   "source": [
    "import os\n",
    "from joblib import Parallel, delayed\n",
    "import numpy as np\n",
    "import pandas as pd\n",
    "import geopandas as gpd\n",
    "from tqdm import tqdm\n",
    "import scipy\n",
    "import glob\n",
    "import matplotlib.pyplot as plt\n",
    "\n",
    "#--------------------- INSAR4SM functionalities --------------\n",
    "from insar4sm.classes import INSAR4SM_stack, SM_point\n",
    "from insar4sm.joblib_progress_bar import tqdm_joblib\n",
    "from insar4sm.prep_meteo import convert_to_df"
   ]
  },
  {
   "cell_type": "code",
   "execution_count": 2,
   "metadata": {},
   "outputs": [],
   "source": [
    "def sm_estimation(stack:INSAR4SM_stack, sm_ind:int, dry_date_manual_flag:bool, dry_date: str)->np.array:\n",
    "    \"\"\"Estimates soil moisture using insar4sm functionalities\n",
    "\n",
    "    Args:\n",
    "        stack (INSAR4SM_stack): the object of the INSAR4SM_stack class\n",
    "        sm_ind (int): index of soil moisture estimation point\n",
    "\n",
    "    Returns:\n",
    "        np.array: soil moisture estimations from inversion\n",
    "    \"\"\"\n",
    "    sm_point_ts = SM_point(stack, sm_ind)\n",
    "    sm_point_ts.get_DS_info(stack)\n",
    "    sm_point_ts.calc_covar_matrix()\n",
    "    if sm_point_ts.non_coverage or np.all(sm_point_ts.amp_DS==0):\n",
    "        return np.full(sm_point_ts.n_ifg, np.nan)\n",
    "    else:\n",
    "        sm_point_ts.get_DS_geometry(stack)\n",
    "        sm_point_ts.calc_driest_date()\n",
    "        if dry_date_manual_flag:\n",
    "            sm_point_ts.driest_date = pd.to_datetime(dry_date)\n",
    "        sm_point_ts.calc_sm_sorting()\n",
    "        sm_point_ts.calc_sm_coherence()\n",
    "        sm_point_ts.calc_sm_index()\n",
    "        sm_point_ts.inversion()\n",
    "        return sm_point_ts.sm_inverted"
   ]
  },
  {
   "attachments": {},
   "cell_type": "markdown",
   "metadata": {},
   "source": [
    "#### In case you want to reproduce the results of this notebook please download the folder SM_Arabia from http://147.102.106.42:5000/fsdownload/gxzvLswJM/public and replace the paths in the following cells.\n",
    "\n",
    "For example '/RSL02/SM_Arabia/Topstack_processing/' should become 'path_to_your_SM_Arabia/Topstack_processing'"
   ]
  },
  {
   "attachments": {},
   "cell_type": "markdown",
   "metadata": {},
   "source": [
    "Input arguments for Arabia case study"
   ]
  },
  {
   "cell_type": "code",
   "execution_count": 3,
   "metadata": {},
   "outputs": [],
   "source": [
    "# the name of your project\n",
    "projectname = 'INSAR4SM_estimations_r1_v2'\n",
    "\n",
    "# the directory of the topstack processing stack\n",
    "topstackDir = '/RSL02/SM_Arabia/Topstack_processing'\n",
    "\n",
    "# time of Sentinel-1 pass.\n",
    "orbit_time = '15:00:00'\n",
    "\n",
    "# the AOI geojson file, ensure that AOI is inside your topstack stack\n",
    "AOI = '/RSL02/SM_Arabia/aoi/arabia_r1_2.geojson'\n",
    "\n",
    "# spatial resolution of soil moisture grid in meters\n",
    "grid_size = 250 \n",
    "\n",
    "# You can set manually a dry date (one of your SAR acquisition dates ) or set to None\n",
    "dry_date = '20180401' \n",
    "# set to True in case you provide manually an dry_date\n",
    "dry_date_manual_flag = True\n",
    "\n",
    "# the meteorological file. You can either provide an ERA5-land file or a csv file with 3 columns (Datetimes, tp__m, skt__K).\n",
    "meteo_file = '/RSL02/SM_Arabia/era5/adaptor.mars.internal-1665654570.8663068-23624-3-8bce5925-a7e7-4993-a701-0e05b4e9dabd.nc'\n",
    "# set to True in case you provide an ERA5-Land file\n",
    "ERA5_flag = True\n",
    "# In case you downloaded surface soil moisture from ERA5-land, set to True for comparison purposes\n",
    "ERA5_sm_flag = True\n",
    "\n",
    "# soil information datasets (https://soilgrids.org/)\n",
    "sand_soilgrids = '/RSL02/SM_Arabia/soilgrids/clay.tif'\n",
    "clay_soilgrids = '/RSL02/SM_Arabia/soilgrids/sand.tif'\n",
    "\n",
    "# the output directory \n",
    "export_dir = '/RSL02/SM_Arabia/{}'.format(projectname)"
   ]
  },
  {
   "attachments": {},
   "cell_type": "markdown",
   "metadata": {},
   "source": [
    "InSAR4SM pipeline"
   ]
  },
  {
   "cell_type": "code",
   "execution_count": 18,
   "metadata": {},
   "outputs": [
    {
     "name": "stdout",
     "output_type": "stream",
     "text": [
      "number of SLCs discovered:  21\n",
      "creating directory: /RSL02/SM_Arabia/INSAR4SM_estimations_r1_v2/INSAR4SM_estimations_r1_v2/INSAR4SM_datasets/slcs\n",
      "write vrt file for each SLC ...\n",
      "creating stack directory: /RSL02/SM_Arabia/INSAR4SM_estimations_r1_v2/INSAR4SM_estimations_r1_v2/INSAR4SM_datasets/coreg_stack\n",
      "write vrt file for stack directory\n",
      "creating geometry directory: /RSL02/SM_Arabia/INSAR4SM_estimations_r1_v2/INSAR4SM_estimations_r1_v2/INSAR4SM_datasets/geometry\n",
      "write vrt file for geometry dataset\n"
     ]
    },
    {
     "name": "stderr",
     "output_type": "stream",
     "text": [
      "SM Invertions: 100%|██████████| 1904/1904 [2:19:08<00:00,  4.38s/it]  \n"
     ]
    }
   ],
   "source": [
    "stack = INSAR4SM_stack(topstackDir = topstackDir,\n",
    "                       projectname = projectname,\n",
    "                       AOI = AOI,\n",
    "                       meteo_file = meteo_file,\n",
    "                       ERA5_flag = ERA5_flag,\n",
    "                       sand = sand_soilgrids,\n",
    "                       clay = clay_soilgrids,\n",
    "                       orbit_time = orbit_time,\n",
    "                       export_dir = export_dir)\n",
    "\n",
    "stack.prepare_datasets()\n",
    "stack.plot()\n",
    "stack.get_dry_SARs()\n",
    "stack.calc_insar_stack()\n",
    "stack.calc_grid(grid_size = grid_size)\n",
    "\n",
    "with tqdm_joblib(tqdm(desc=\"SM Invertions\", total=stack.n_sm_points)) as progress_bar:\n",
    "    sm_estimations_list = Parallel(n_jobs=stack.CPUs, backend=\"threading\")(delayed(sm_estimation)(stack, sm_ind, dry_date_manual_flag, dry_date) for sm_ind in range(stack.n_sm_points))\n",
    "\n",
    "column_dates = [slc_date.strftime(\"D%Y%m%d\") for slc_date in stack.slc_datetimes]\n",
    "sm_estimations_df = pd.DataFrame(sm_estimations_list, index = range(stack.n_sm_points), columns = column_dates)\n",
    "\n",
    "sm_estimations_df['geometry'] = stack.sm_points.values\n",
    "sm_estimations_gdg = gpd.GeoDataFrame(sm_estimations_df, geometry='geometry')\n",
    "sm_estimations_gdg.to_file(os.path.join(stack.export_dir,'sm_inversions_{}_{}.shp'.format(projectname,grid_size)))"
   ]
  },
  {
   "attachments": {},
   "cell_type": "markdown",
   "metadata": {},
   "source": [
    "Visualization using precipitation and InSAR4SM SSM estimations"
   ]
  },
  {
   "cell_type": "code",
   "execution_count": 47,
   "metadata": {},
   "outputs": [
    {
     "data": {
      "image/png": "[encoded data removed]",
      "text/plain": [
       "<Figure size 640x480 with 1 Axes>"
      ]
     },
     "metadata": {},
     "output_type": "display_data"
    }
   ],
   "source": [
    "meteo_files = glob.glob('/RSL02/SM_Arabia/Precipitation/*.nc')\n",
    "meteo_df = pd.DataFrame()\n",
    "for meteo_file in meteo_files:\n",
    "    meteo_file_temp_df = convert_to_df(meteo_file, SM_AOI = AOI, ERA5_flag=True)\n",
    "    meteo_df = pd.concat([meteo_df, meteo_file_temp_df])\n",
    "\n",
    "meteo_df['tp_mm'] = meteo_df['tp__m']*1000\n",
    "meteo_df['tp_mm'].plot()\n",
    "plt.savefig('/RSL02/SM_Arabia/Precipitation/plot.svg')"
   ]
  },
  {
   "attachments": {},
   "cell_type": "markdown",
   "metadata": {},
   "source": [
    "InSAR4SM results over a region in Arabian Peninsula from Apr to Nov 2018\n",
    "\n",
    "<img src=\"figures/InSAR4SM_arabia_animation.gif\" width=\"600\" align=\"center\">"
   ]
  },
  {
   "cell_type": "markdown",
   "metadata": {},
   "source": []
  }
 ],
 "metadata": {
  "kernelspec": {
   "display_name": "insar4sm",
   "language": "python",
   "name": "python3"
  },
  "language_info": {
   "codemirror_mode": {
    "name": "ipython",
    "version": 3
   },
   "file_extension": ".py",
   "mimetype": "text/x-python",
   "name": "python",
   "nbconvert_exporter": "python",
   "pygments_lexer": "ipython3",
   "version": "3.9.12"
  },
  "orig_nbformat": 4,
  "vscode": {
   "interpreter": {
    "hash": "b9bf684aed59e58c11292718d6d3574bfbd24b3a5f3932f2293d1c2e0cadd0ae"
   }
  }
 },
 "nbformat": 4,
 "nbformat_minor": 2
}
