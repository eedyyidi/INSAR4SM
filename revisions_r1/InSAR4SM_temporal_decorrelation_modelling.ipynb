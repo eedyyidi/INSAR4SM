{
 "cells": [
  {
   "attachments": {},
   "cell_type": "markdown",
   "metadata": {},
   "source": [
    "In this notebook the performance of exponential modelling of temporal decorrelation (Equation 6) for InSAR4SM is presented.\n",
    "\n",
    "$ \\gamma_{dry} = (\\gamma_0 - \\gamma_p)e^{t/\\tau} + \\gamma_p$\n",
    "\n",
    "Morishita and Hanssen, 2015 introduced this relationship to mitigate the coherence loss mainly due to random movements of vegetation.\n",
    "Even though in arid regions we have low coverage of vegetation, we can still have temporal decorrelation due to vegetation movements (wind) or vegetation changes (growth). Moreover, sand movements due to wind is an other factor that should be accounted for.\n",
    "\n",
    "\n",
    "Vegetation effects can bedue to anthropogenic activities or due to natural casues. I have to discriminate them. Describe that the temporal decorrelation is not only due to vegetation but also due to sand movement.\n",
    "correct the naming of the variables used.\n",
    "\n",
    "\n",
    "It is assumed in the paper that vegetation effects are negligible. The exponential decay model is, however, generally associated with random movements of vegetation. The use of the exponential temporal decorrelation model here is therefore confusing to me. Moreover, none of these parameters (\\tau,\\gamma_p))are reported in the case study either."
   ]
  },
  {
   "cell_type": "code",
   "execution_count": null,
   "metadata": {},
   "outputs": [],
   "source": []
  }
 ],
 "metadata": {
  "kernelspec": {
   "display_name": "Python 3",
   "language": "python",
   "name": "python3"
  },
  "language_info": {
   "name": "python",
   "version": "3.10.6"
  },
  "orig_nbformat": 4,
  "vscode": {
   "interpreter": {
    "hash": "916dbcbb3f70747c44a77c7bcd40155683ae19c65e1c03b4aa3499c5328201f1"
   }
  }
 },
 "nbformat": 4,
 "nbformat_minor": 2
}
